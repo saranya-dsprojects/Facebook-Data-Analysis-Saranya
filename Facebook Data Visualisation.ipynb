{
 "cells": [
  {
   "cell_type": "markdown",
   "metadata": {
    "colab_type": "text",
    "id": "9ku0h8OsoHJz"
   },
   "source": [
    "<p align=\"center\"><img src=\"https://github.com/insaid2018/Term-1/blob/master/Images/INSAID_Full%20Logo.png?raw=true\" width=\"260\" height=\"110\" /></p>"
   ]
  },
  {
   "cell_type": "markdown",
   "metadata": {
    "colab_type": "text",
    "id": "NWvRwRdGoK5Y"
   },
   "source": [
    "---\n",
    "# **Table of Contents**\n",
    "---\n",
    "\n",
    "1. [**Introduction**](#Section1)<br>\n",
    "2. [**Problem Statement**](#Section2)<br>\n",
    "3. [**Installing & Importing Libraries**](#Section3)<br>\n",
    "  3.1 [**Installing Libraries**](#Section31)<br>\n",
    "  3.2 [**Upgrading Libraries**](#Section32)<br>\n",
    "  3.3 [**Importing Libraries**](#Section33)<br>\n",
    "4. [**Data Acquisition & Description**](#Section4)<br>\n",
    "5. [**Data Pre-Profiling**](#Section5)<br>\n",
    "6. [**Data Pre-Processing**](#Section6)<br>\n",
    "7. [**Data Post-Profiling**](#Section7)<br>\n",
    "8. [**Exploratory Data Analysis**](#Section8)<br>\n",
    "9. [**Summarization**](#Section9)</br>\n",
    "  9.1 [**Conclusion**](#Section91)</br>\n",
    "  9.2 [**Actionable Insights**](#Section91)</br>\n",
    "\n",
    "---"
   ]
  },
  {
   "cell_type": "markdown",
   "metadata": {
    "colab_type": "text",
    "id": "iACv_4iIoaLi"
   },
   "source": [
    "---\n",
    "<a name = Section1></a>\n",
    "# **1. Introduction**\n",
    "---\n",
    "- In this analysis we are using a survey data set, that has captured data regarding unique user id's, their age, their tenure on facebook, the number of likes given, the number of likes recieved, how the likes recieved vary on the web app and on the mobile device, how the friend count varies with age etc.\n",
    "- Through this analysis our main intention is to see if there is any pattern that can help facebook improve its mobile and web features, which age groups it should target more, and how social media can be leveraged by people of different age groups for social media marketing, for popularizing one's personal brand and to be on top of the game at all times."
   ]
  },
  {
   "cell_type": "markdown",
   "metadata": {
    "colab_type": "text",
    "id": "sOGJAM3AoePy"
   },
   "source": [
    "---\n",
    "<a name = Section2></a>\n",
    "# **2. Problem Statement**\n",
    "---\n",
    "\n",
    "<p align=\"center\"><img src=\"https://chi2016.acm.org/wp/wp-content/uploads/2016/02/Facebook-06-2015-Blue.png\"></p>\n",
    "\n",
    "- Derive a scenario related to the problem statement and heads on to the journey of exploration.\n",
    "\n",
    "- **Example Scenario:**\n",
    "  - Facebook, Inc. is an American social media conglomerate founded in 2005 by Mark Zuckerberg with 2 other classmates from Harvard University. People from different countries, ethinicities, cultures, age groups, interact and use facebook on a daily basis. The company however wants to increase the opportunity for users to use Facebook for social media campaigns, for small and big businesses and also enable users to generate effective leads. As a result, they have collected usage data for different age groups, the device they use , the likes they recieve and give and also the number of friends they have or the requests they have initiated. This will help facebook personalise the experience of users more, help them track patterns that will increase enagagement, improve app features and/or website features etc.\n",
    "  - To tackle this problem, Facebook has hired a data engineer to find patterns and derive meaningful insights.\n",
    "  "
   ]
  },
  {
   "cell_type": "markdown",
   "metadata": {
    "colab_type": "text",
    "id": "yzSAH3m9pLWi"
   },
   "source": [
    "---\n",
    "<a id = Section3></a>\n",
    "# **3. Installing & Importing Libraries**\n",
    "---\n",
    "\n",
    "- This section is emphasised on installing and importing the necessary libraries that will be required."
   ]
  },
  {
   "cell_type": "markdown",
   "metadata": {
    "colab_type": "text",
    "id": "M0y7joFPpOuQ"
   },
   "source": [
    "### **Installing Libraries**"
   ]
  },
  {
   "cell_type": "code",
   "execution_count": null,
   "metadata": {
    "colab": {},
    "colab_type": "code",
    "id": "S3pqantTnmxX"
   },
   "outputs": [],
   "source": [
    "!pip install -q datascience                                         \n",
    "!pip install -q pandas-profiling                           "
   ]
  },
  {
   "cell_type": "markdown",
   "metadata": {
    "colab_type": "text",
    "id": "pYQrkcl4pe8J"
   },
   "source": [
    "### **Upgrading Libraries**\n",
    "\n",
    "- **After upgrading** the libraries, you need to **restart the runtime** to make the libraries in sync.\n",
    "\n",
    "- Make sure not to execute the cell under Installing Libraries and Upgrading Libraries again after restarting the runtime."
   ]
  },
  {
   "cell_type": "code",
   "execution_count": null,
   "metadata": {
    "colab": {},
    "colab_type": "code",
    "id": "dmiiVvd-phhY"
   },
   "outputs": [],
   "source": [
    "!pip install -q --upgrade pandas-profiling"
   ]
  },
  {
   "cell_type": "markdown",
   "metadata": {
    "colab_type": "text",
    "id": "PbyRyjDhpoJj"
   },
   "source": [
    "### **Importing Libraries**\n",
    "\n",
    "- You can headstart with the basic libraries as imported inside the cell below.\n",
    "\n",
    "- If you want to import some additional libraries, feel free to do so.\n"
   ]
  },
  {
   "cell_type": "code",
   "execution_count": null,
   "metadata": {
    "colab": {},
    "colab_type": "code",
    "id": "5RapekFlpptb"
   },
   "outputs": [],
   "source": [
    "import numpy as np\n",
    "np.set_printoptions(precision=4)                    # To display values only upto four decimal places. \n",
    "\n",
    "import pandas as pd\n",
    "pd.set_option('mode.chained_assignment', None)      # To suppress pandas warnings.\n",
    "pd.set_option('display.max_colwidth', -1)           # To display all the data in each column\n",
    "pd.options.display.max_columns = None                 # To display every column of the dataset in head()\n",
    "\n",
    "import matplotlib.pyplot as plt\n",
    "plt.style.use('seaborn-whitegrid')                  # To apply seaborn whitegrid style to the plots.\n",
    "%matplotlib inline\n",
    "\n",
    "import seaborn as sns\n",
    "sns.set(style='whitegrid', font_scale=1.3, color_codes=True)      # To adjust seaborn settings for the plots.\n",
    "\n",
    "import warnings\n",
    "warnings.filterwarnings('ignore')                   # To suppress all the warnings in the notebook."
   ]
  },
  {
   "cell_type": "code",
   "execution_count": null,
   "metadata": {},
   "outputs": [],
   "source": [
    "from pandas.plotting import parallel_coordinates"
   ]
  },
  {
   "cell_type": "code",
   "execution_count": null,
   "metadata": {},
   "outputs": [],
   "source": [
    "!pip install plotly --upgrade"
   ]
  },
  {
   "cell_type": "code",
   "execution_count": null,
   "metadata": {},
   "outputs": [],
   "source": [
    "!pip install chart-studio"
   ]
  },
  {
   "cell_type": "code",
   "execution_count": null,
   "metadata": {},
   "outputs": [],
   "source": [
    "import matplotlib.pyplot as plt\n",
    "%matplotlib inline\n",
    "\n",
    "import seaborn as sns\n",
    "sns.set(style='whitegrid', font_scale=1.3, color_codes=True)"
   ]
  },
  {
   "cell_type": "code",
   "execution_count": null,
   "metadata": {},
   "outputs": [],
   "source": [
    "import sys\n",
    "!conda install --yes --prefix {sys.prefix} plotly\n",
    "#pip install plotly\n",
    "import plotly.graph_objs as go"
   ]
  },
  {
   "cell_type": "code",
   "execution_count": null,
   "metadata": {},
   "outputs": [],
   "source": [
    "import pandas_profiling"
   ]
  },
  {
   "cell_type": "markdown",
   "metadata": {
    "colab_type": "text",
    "id": "ys9Qb4OlpzvZ"
   },
   "source": [
    "---\n",
    "<a name = Section4></a>\n",
    "# **4. Data Acquisition & Description**\n",
    "---\n",
    "\n",
    "- This section is emphasised on the accquiring the data and obtain some descriptive information out of it.\n",
    "\n",
    "- You could either scrap the data and then continue, or use a direct source of link (generally preferred in most cases).\n",
    "\n",
    "- You will be working with a direct source of link to head start your work without worrying about anything.\n",
    "\n",
    "- Before going further you must have a good idea about the features of the data set:\n",
    "\n",
    "|Id|Feature|Description|\n",
    "|:--|:--|:--|\n",
    "|01| userid                 | A numeric value uniquely identifying the user.|\n",
    "|02| age                    | Age of the user in years.|\n",
    "|03| dob_day                | Day part of the user's date of birth.|\n",
    "|04| dob_year               | Year part of the user's date of birth.| \n",
    "|05| dob_month              | Month part of the user's date of birth.|\n",
    "|06| gender                 | Gender of the user.| \n",
    "|07| tenure                 | Number of days since the user has been on FB.|\n",
    "|08| friend_count           | Number of friends the user has.|\n",
    "|09| friendships_initiated  | Number of friendships initiated by the user.|\n",
    "|10| likes                  | Total number of posts liked by the user.|\n",
    "|11| likes_received         | Total Number of likes received by user's posts.|\n",
    "|12| mobile_likes           | Number of posts liked by the user through mobile app.|\n",
    "|13| mobile_likes_received  | Number of likes received by user through mobile app.|\n",
    "|14| www_likes              | Number of posts liked by the user through web.|\n",
    "|15| www_likes_received     | Number of likes received by user  through web.| \n"
   ]
  },
  {
   "cell_type": "code",
   "execution_count": null,
   "metadata": {
    "colab": {
     "base_uri": "https://localhost:8080/",
     "height": 241
    },
    "colab_type": "code",
    "executionInfo": {
     "elapsed": 2545,
     "status": "ok",
     "timestamp": 1600335417318,
     "user": {
      "displayName": "Mukesh Kumar",
      "photoUrl": "",
      "userId": "01238672520445611335"
     },
     "user_tz": -330
    },
    "id": "aXPrewndpw1T",
    "outputId": "ac37750c-ec12-473e-c6ad-7dc76cb76176"
   },
   "outputs": [],
   "source": [
    "fb = pd.read_csv(\"https://raw.githubusercontent.com/insaid2018/Term-1/master/Data/Projects/facebook_data.csv\")\n",
    "fb.head()"
   ]
  },
  {
   "cell_type": "markdown",
   "metadata": {
    "colab_type": "text",
    "id": "FfkdFrL_qMPn"
   },
   "source": [
    "### **Data Description**\n",
    "\n",
    "- To get some quick description out of the data you can use describe method defined in pandas library."
   ]
  },
  {
   "cell_type": "code",
   "execution_count": null,
   "metadata": {
    "colab": {},
    "colab_type": "code",
    "id": "cLs4jsSuqJjC"
   },
   "outputs": [],
   "source": [
    "fb.describe()"
   ]
  },
  {
   "cell_type": "markdown",
   "metadata": {
    "colab_type": "text",
    "id": "lM-hljKpqXsp"
   },
   "source": [
    "### **Data Information**"
   ]
  },
  {
   "cell_type": "code",
   "execution_count": null,
   "metadata": {
    "colab": {},
    "colab_type": "code",
    "id": "aPYZy6voqXc4"
   },
   "outputs": [],
   "source": [
    "fb.info()"
   ]
  },
  {
   "cell_type": "markdown",
   "metadata": {
    "colab_type": "text",
    "id": "efZ8svauqc55"
   },
   "source": [
    "---\n",
    "<a name = Section5></a>\n",
    "# **5. Data Pre-Profiling**\n",
    "---\n",
    "\n",
    "- This section is emphasised on getting a report about the data.\n",
    "\n",
    "- You need to perform pandas profiling and get some observations out of it..."
   ]
  },
  {
   "cell_type": "code",
   "execution_count": null,
   "metadata": {
    "colab": {},
    "colab_type": "code",
    "id": "VEHxAq8Zqcgo"
   },
   "outputs": [],
   "source": [
    "profile = fb.profile_report(title=\"Data Visualization Report for Facebook Data\", progress_bar=False, minimal=False)\n",
    "profile.to_file(output_file=\"exploratory_analysis.html\")\n",
    "profile"
   ]
  },
  {
   "cell_type": "code",
   "execution_count": null,
   "metadata": {},
   "outputs": [],
   "source": [
    "## Observations\n",
    "# Minimum age is 13 and maximum age is 113. \n",
    "# The number of males in the data set is higher than the number of females.\n",
    "# The mean tenure is around 537 days.\n",
    "# The number of friends vary drastically with a maximum of 4923 friends.\n",
    "# The number of friendships initiated has a mean value of 107, but the graph is again very skewed.\n",
    "# The number of mobile likes recieved seem to be significantly higher than the www likes indicating more app usage."
   ]
  },
  {
   "cell_type": "markdown",
   "metadata": {
    "colab_type": "text",
    "id": "YMvtK0X-qoe6"
   },
   "source": [
    "---\n",
    "<a name = Section6></a>\n",
    "# **6. Data Pre-Processing**\n",
    "---\n",
    "\n",
    "- This section is emphasised on performing data manipulation over unstructured data for further processing and analysis.\n",
    "\n",
    "- To modify unstructured data to strucuted data you need to verify and manipulate the integrity of the data by:\n",
    "  - Handling missing data,\n",
    "\n",
    "  - Handling redundant data,\n",
    "\n",
    "  - Handling inconsistent data,\n",
    "\n",
    "  - Handling outliers,\n",
    "\n",
    "  - Handling typos"
   ]
  },
  {
   "cell_type": "code",
   "execution_count": null,
   "metadata": {
    "colab": {},
    "colab_type": "code",
    "id": "FxzbSzWDqytZ"
   },
   "outputs": [],
   "source": [
    "fb.isna().sum()"
   ]
  },
  {
   "cell_type": "code",
   "execution_count": null,
   "metadata": {},
   "outputs": [],
   "source": [
    "fb['gender'] = fb['gender'].fillna('Not sure')"
   ]
  },
  {
   "cell_type": "code",
   "execution_count": null,
   "metadata": {},
   "outputs": [],
   "source": [
    "fb['tenure'] = fb['tenure'].fillna(0)"
   ]
  },
  {
   "cell_type": "code",
   "execution_count": null,
   "metadata": {},
   "outputs": [],
   "source": [
    "fb.isna().sum()"
   ]
  },
  {
   "cell_type": "code",
   "execution_count": null,
   "metadata": {},
   "outputs": [],
   "source": [
    "fb.sample(20)"
   ]
  },
  {
   "cell_type": "code",
   "execution_count": null,
   "metadata": {},
   "outputs": [],
   "source": [
    "fb.info()"
   ]
  },
  {
   "cell_type": "code",
   "execution_count": null,
   "metadata": {},
   "outputs": [],
   "source": [
    "fb['tenure']= fb['tenure'].astype(int)"
   ]
  },
  {
   "cell_type": "code",
   "execution_count": null,
   "metadata": {},
   "outputs": [],
   "source": [
    "fb.info()"
   ]
  },
  {
   "cell_type": "markdown",
   "metadata": {
    "colab_type": "text",
    "id": "amsQwri2q1_J"
   },
   "source": [
    "---\n",
    "<a name = Section7></a>\n",
    "# **7. Data Post-Profiling**\n",
    "---\n",
    "\n",
    "- This section is emphasised on getting a report about the data after the data manipulation.\n",
    "\n",
    "- You may end up observing some new changes, so keep it under check and make right observations."
   ]
  },
  {
   "cell_type": "code",
   "execution_count": null,
   "metadata": {
    "colab": {},
    "colab_type": "code",
    "id": "87U7K8sWq1y5"
   },
   "outputs": [],
   "source": [
    "profile = fb.profile_report(title=\"Data Visualization Report for Facebook Data\", progress_bar=False, minimal=False)\n",
    "profile.to_file(output_file=\"exploratory_analysis.html\")\n",
    "profile"
   ]
  },
  {
   "cell_type": "markdown",
   "metadata": {
    "colab_type": "text",
    "id": "taDvvLa9q-5p"
   },
   "source": [
    "---\n",
    "<a name = Section8></a>\n",
    "# **8. Exploratory Data Analysis**\n",
    "---\n",
    "\n",
    "- This section is emphasised on asking the right questions and perform analysis using the data.\n",
    "\n",
    "- Note that there is no limit how deep you can go, but make sure not to get distracted from right track."
   ]
  },
  {
   "cell_type": "code",
   "execution_count": null,
   "metadata": {
    "colab": {},
    "colab_type": "code",
    "id": "fwWa_FPerGCB"
   },
   "outputs": [],
   "source": [
    "## Highest and Lowest age group in the data set and their counts.\n",
    "fb['age'].iloc[fb['age'].argmax()]"
   ]
  },
  {
   "cell_type": "code",
   "execution_count": null,
   "metadata": {},
   "outputs": [],
   "source": [
    "fb['age'].iloc[fb['age'].argmin()]"
   ]
  },
  {
   "cell_type": "code",
   "execution_count": null,
   "metadata": {},
   "outputs": [],
   "source": [
    "##Show the spread of data for age group\n",
    "\n",
    "fb['age'].plot(kind = 'kde')"
   ]
  },
  {
   "cell_type": "code",
   "execution_count": null,
   "metadata": {},
   "outputs": [],
   "source": [
    "## Total Number of Females, Males and those in 'Not sure' category in Each age group\n",
    "fb.groupby(['age'])['gender'].value_counts()"
   ]
  },
  {
   "cell_type": "code",
   "execution_count": null,
   "metadata": {},
   "outputs": [],
   "source": [
    "fb['age_group'] = pd.cut(fb['age'],[0,19,25,35,45,99],labels=['Less than 18','19-24','25-34','35-44','45+'],include_lowest=True )\n",
    "fb['age_group'].value_counts()"
   ]
  },
  {
   "cell_type": "code",
   "execution_count": null,
   "metadata": {},
   "outputs": [],
   "source": []
  },
  {
   "cell_type": "code",
   "execution_count": null,
   "metadata": {},
   "outputs": [],
   "source": [
    "fb['age_group'].value_counts().plot(kind='bar',figsize=(10,5),colormap='rainbow',fontsize=13,yticks=np.arange(0,19,2))\n",
    "plt.title('Breakup of different age groups')\n",
    "plt.xlabel('Age Group')\n",
    "plt.ylabel('Count')\n",
    "plt.savefig('breakdown-category.png')"
   ]
  },
  {
   "cell_type": "code",
   "execution_count": null,
   "metadata": {},
   "outputs": [],
   "source": [
    "fb[fb['gender' == 'Not sure']].value_counts()"
   ]
  },
  {
   "cell_type": "code",
   "execution_count": null,
   "metadata": {},
   "outputs": [],
   "source": [
    "## Show the spread of age group for male, female and not sure categories.\n",
    "plt.figure(figsize=(15,8))\n",
    "sns.boxplot(data=fb, x='gender', y='age', palette='rainbow')"
   ]
  },
  {
   "cell_type": "code",
   "execution_count": null,
   "metadata": {},
   "outputs": [],
   "source": [
    "## Age Groups and their Tenure\n",
    "\n",
    "fb.groupby(['age_group'])['tenure'].mean().sort_values(ascending = False)"
   ]
  },
  {
   "cell_type": "code",
   "execution_count": null,
   "metadata": {},
   "outputs": [],
   "source": [
    "## Find the most popular males \n",
    "\n",
    "fb_malepopular=fb[fb['gender'] == 'male'][['age','likes_received']].sort_values('likes_received',ascending=False)[:10]\n",
    "fb_malepopular.plot(kind='scatter', x='age', y='likes_received', figsize=(15, 7), color='blue', grid=False)"
   ]
  },
  {
   "cell_type": "code",
   "execution_count": null,
   "metadata": {},
   "outputs": [],
   "source": [
    "## Find the most popular females\n",
    "\n",
    "fb_femalepopular=fb[fb['gender'] == 'female'][['age','likes_received']].sort_values('likes_received',ascending=False)[:10]\n",
    "fb_femalepopular.plot(kind='scatter', x='age', y='likes_received', figsize=(15, 7), color='blue', grid=False)"
   ]
  },
  {
   "cell_type": "code",
   "execution_count": null,
   "metadata": {},
   "outputs": [],
   "source": [
    "## Top 10 age groups with maximum tenure.\n",
    "\n",
    "fb.groupby(['age'])['tenure'].mean().sort_values(ascending = False)[:10]"
   ]
  },
  {
   "cell_type": "code",
   "execution_count": null,
   "metadata": {},
   "outputs": [],
   "source": [
    "### Is there a relationship between number of friends and number of likes recieved ?\n",
    "plt.figure(figsize=(15,8))\n",
    "sns.scatterplot(data=fb, x='friend_count', y='likes_received', hue = 'gender')\n",
    "\n",
    "## There is no relationship between friend count and likes recieved. As the friend count increases there seems to be a slight uphill trend. There are a few outliers at >250000 likes for a lesser friend count. These are probably social media influencers , bloggers, or any othe celebrity figure."
   ]
  },
  {
   "cell_type": "code",
   "execution_count": null,
   "metadata": {},
   "outputs": [],
   "source": [
    "### Is there a relationship between friendships initiated and number of likes recieved ?\n",
    "\n",
    "plt.figure(figsize=(15,8))\n",
    "sns.regplot(data=fb,x='friendships_initiated',y='likes_received',color='green')\n",
    "\n",
    "### For Friendships initiated of less than 1000 , the number of likes recieved is high. However, it keeps decreasing with a very high number of friendships initiated.\n"
   ]
  },
  {
   "cell_type": "code",
   "execution_count": null,
   "metadata": {
    "scrolled": true
   },
   "outputs": [],
   "source": [
    "###I want to see if there is a relationship between mobile likes given and age\n",
    "\n",
    "plt.figure(figsize=(15,8))\n",
    "sns.scatterplot(data=fb, x='age', y='mobile_likes', hue = 'gender')\n",
    "\n",
    "#### People in the age group between 20 and 30 have the maximum likes given through mobile access."
   ]
  },
  {
   "cell_type": "code",
   "execution_count": null,
   "metadata": {},
   "outputs": [],
   "source": [
    "###I want to see if there is a relationship between www likes given and age\n",
    "\n",
    "plt.figure(figsize=(15,8))\n",
    "sns.scatterplot(data=fb, x='age', y='www_likes', hue = 'gender')\n",
    "\n",
    "#### People in the age group between 18 and 24 have the maximum likes given through www access and females seem to be more addicted."
   ]
  },
  {
   "cell_type": "code",
   "execution_count": null,
   "metadata": {},
   "outputs": [],
   "source": [
    "### Is there a relationship between age and likes recieved ?\n",
    "\n",
    "plt.figure(figsize=(15,8))\n",
    "sns.scatterplot(data=fb, x='age', y='likes', hue = 'gender')\n",
    "\n",
    "### Younger females and males seem to recieve a higher number of likes than the rest."
   ]
  },
  {
   "cell_type": "code",
   "execution_count": null,
   "metadata": {},
   "outputs": [],
   "source": [
    "###I want to see if there is a relationship between likes recieved and gender\n",
    "fb.groupby(['gender'])['likes_received'].mean().plot(kind ='bar', figsize=(15,7), color = 'red')\n",
    "### Females have a higher popularity on Facebook."
   ]
  },
  {
   "cell_type": "code",
   "execution_count": null,
   "metadata": {},
   "outputs": [],
   "source": []
  },
  {
   "cell_type": "code",
   "execution_count": null,
   "metadata": {},
   "outputs": [],
   "source": [
    "## I want to examine the relationship between multiple continuous variables- mobile_likes, www_likes,mobile_likes_recieved and www_likes_recieved.\n",
    "\n",
    "import seaborn as sns\n",
    "plt.figure(figsize=(20,10))\n",
    "sns.pairplot(fb[['mobile_likes','www_likes','mobile_likes_received','www_likes_received','gender']],hue='gender',diag_kind='kde')"
   ]
  },
  {
   "cell_type": "code",
   "execution_count": null,
   "metadata": {},
   "outputs": [],
   "source": []
  },
  {
   "cell_type": "code",
   "execution_count": null,
   "metadata": {},
   "outputs": [],
   "source": [
    "import seaborn as sns\n",
    "plt.figure(figsize=(20,20))\n",
    "sns.pairplot(fb[['mobile_likes','www_likes','age_group']],hue='age_group')\n",
    "\n",
    "### There is a negative relationship between www likes and mobile likes given. This indicates that most individuals access facebook using only one device."
   ]
  },
  {
   "cell_type": "code",
   "execution_count": null,
   "metadata": {},
   "outputs": [],
   "source": [
    "# Show me the corelation between differnt variables:\n",
    "fb.corr()\n",
    "plt.figure(figsize=(20,10))\n",
    "sns.heatmap(fb.corr(),cmap='plasma',annot=True)    "
   ]
  },
  {
   "cell_type": "code",
   "execution_count": null,
   "metadata": {},
   "outputs": [],
   "source": [
    "#Analysis:\n",
    "#There is a high corelation between friend count and friendships initiated.\n",
    "#There is a high corelation between mobile likes given and total number of likes given, and low corelation between the www likes given and the total likes given.\n",
    "#There is a high corelation between mobile likes recived and total number of likes recieved, which is slightly greater than the corelation between www likes revieved and total likes recieved."
   ]
  },
  {
   "cell_type": "code",
   "execution_count": null,
   "metadata": {},
   "outputs": [],
   "source": []
  },
  {
   "cell_type": "markdown",
   "metadata": {
    "colab_type": "text",
    "id": "Pqk4cV2wrIIZ"
   },
   "source": [
    "---\n",
    "<a name = Section9></a>\n",
    "# **9. Summarization**\n",
    "---\n",
    "\n",
    "- We first went ahead and used pandas profiling to check the different characteristics of the data set. \n",
    "- After initial observations , we moved ahead with data cleaning. Here we removed Na values and replaced them with   appropriate values.\n",
    "- We then performed post profiling to observe any changes.\n",
    "- Then , we went ahead and conducted EDA. Here we added one more column called age_group.\n",
    "- We then based our observations on the age_group division, gender division, likes recieved and given, populatity of females and males, their usage patterns, the people who are most addicted and so on.\n",
    "- We found that females are the most popular and people of the age group 20-24 years have the highest usage pattern. \n",
    "- There are some outliers , and these are mostly males who have very high popularity.\n",
    "- There is no relationship between friend count and likes recieved. As the friend count increases there seems to be a slight uphill trend. There are a few outliers at >250000 likes for a lesser friend count. These are probably social media influencers , bloggers, or any other celebrity figure.\n",
    "- There is no relationship between friend count and likes recieved. As the friend count increases there seems to be a slight uphill trend. There are a few outliers at >250000 likes for a lesser friend count. These are probably social media influencers , bloggers, or any othe celebrity figure."
   ]
  },
  {
   "cell_type": "markdown",
   "metadata": {
    "colab_type": "text",
    "id": "wducAS9QrPfZ"
   },
   "source": [
    "<a name = Section91></a>\n",
    "### **9.1 Conclusion**\n",
    "\n",
    "- Through EDA and associated visualisations we relaised that the age group which uses Facebook more actively is between 20- 30 years of age and they use the mobile app more frequently. Web usage however is spread over a wider age group implying that social media features on the website are more user friendly, easy to use and interactive. Further analysis can be conducted to identify the different pages they visit , the businesses they have setup and are active on, and also how social media campaigns have gathered pace over the last few years. This will help Facebook improve their user base and also help achieve the target of increasing Facebook usage commercially.\n"
   ]
  },
  {
   "cell_type": "markdown",
   "metadata": {
    "colab_type": "text",
    "id": "z3MtiiACrVJq"
   },
   "source": [
    "<a name = Section92></a>\n",
    "### **9.2 Actionable Insights**\n",
    "\n",
    "\n",
    "- Highest and Lowest age groups in the dataset are 113 and 13.\n",
    "- Total number of Females, Males , Not sure category in each age group.\n",
    "- Highest number of items are in the age group of 45+, and minimum is in the age group of 35-44\n",
    "- The female age group has a higher spread of data than males and the central tendency is also higher.\n",
    "- MAles in the age group of 18-24 are the most popular with a substantially high number of likes recieved, while for females the spread is between 11 to 20 years.\n",
    "- For Friendships initiated of less than 1000 , the number of likes recieved is high. However, it keeps decreasing with a very high number of friendships initiated.\n",
    "- People in the age group between 20 and 30 have the maximum likes given through mobile access.\n",
    "- People in the age group between 18 and 24 have the maximum likes given through www access and females seem to be more addicted.\n",
    "- Younger females and males seem to recieve a higher number of likes than the rest. - thus implying age does have an impact on popularity.\n",
    "- There is a negative relationship between www likes and mobile likes given. This indicates that most individuals access facebook using only one device.\n",
    "- There is a high corelation between friend count and friendships initiated.\n",
    "- There is a high corelation between mobile likes given and total number of likes given, and low corelation between the www likes given and the total likes given.\n",
    "- There is a high corelation between mobile likes recived and total number of likes recieved, which is slightly greater than the corelation between www likes revieved and total likes recieved.\n",
    "- Data regarding the different pages visited by users, along with frequency and time of the day could have helped us in our goal of increasing facebook usability to improve social media marketing.\n",
    "\n",
    "### **9.3 Suggestions**\n",
    "\n",
    "- The spread of data for females is between 20 and 55 years of age and for males it is between 20 to 45 years of age. Hence, this is the spread that we should be focussing our efforts on.\n",
    "- Younger males seem to be more enagaged hence further analysis can be done to identify their behavioural patterns and the content they enagage with , implying higher social media presence.\n",
    "- Organic reach has dropped on almost every social media platform in recent years. However, accounts with higher social media engagement are the least affected. In fact, Facebook uses “meaningful engagement” as an important signal that a post should be prioritized. Hence people with higher number of posts/ likes given should be prioritized more.\n",
    "- Popular males and females belonging to a certain age group ( 18-22 ) approx have the highest number of likes recieved. Hence , closely analysing their social media presence with time of the day,the different pages they have created, their personalities etc can be tracked and social media analytics can play a vital role in it.\n",
    "- Usage of mobile device to access facebook is high for people in the age group of 18 to 30. However, for high number of likes given through the web, seems to be spread till the age of 65-70 years. Therefore it is inevitable that the web access is easier or much more comfortable for a larger population than the mobile app. This implies that work needs to be done to make the mobile app easy to use with interactive features.\n",
    "- In order to encourage users to interact with facebook more for social media marketing, it is important to gather further data on small and large business pages on facebook and how different individuals are leveraging facebook for it."
   ]
  },
  {
   "cell_type": "code",
   "execution_count": null,
   "metadata": {},
   "outputs": [],
   "source": []
  }
 ],
 "metadata": {
  "colab": {
   "authorship_tag": "ABX9TyPYnAdiY7Enody0No4RXYaD",
   "collapsed_sections": [],
   "name": "Analysis on Facebook Utilization.ipynb",
   "provenance": []
  },
  "kernelspec": {
   "display_name": "Python 3",
   "language": "python",
   "name": "python3"
  },
  "language_info": {
   "codemirror_mode": {
    "name": "ipython",
    "version": 3
   },
   "file_extension": ".py",
   "mimetype": "text/x-python",
   "name": "python",
   "nbconvert_exporter": "python",
   "pygments_lexer": "ipython3",
   "version": "3.8.5"
  }
 },
 "nbformat": 4,
 "nbformat_minor": 1
}
